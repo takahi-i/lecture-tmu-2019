{
 "cells": [
  {
   "cell_type": "markdown",
   "metadata": {
    "nbpresent": {
     "id": "b0d37628-d11d-43ca-bd70-44567aebbf41"
    }
   },
   "source": [
    "# 評判分析で文章のポジネガを判別しよう\n",
    "\n",
    "機械学習を用いた評判分析における記念碑的論文( http://www.cs.cornell.edu/home/llee/papers/sentiment.pdf )と同様のセットアップで分析を行い、論文の精度を上回れるかチャレンジしてみましょう！"
   ]
  },
  {
   "cell_type": "markdown",
   "metadata": {
    "nbpresent": {
     "id": "b14e9b2d-e81d-4c46-aaa5-a21ead865efb"
    }
   },
   "source": [
    "## 0.前準備\n",
    "\n",
    "python versionの確認します。<br>\n",
    "jupyter notebookではシェルコマンドの文頭に\"!\"をつけるとそのシェルコマンドをnotebook上で実行することができます。<br> "
   ]
  },
  {
   "cell_type": "code",
   "execution_count": 1,
   "metadata": {
    "collapsed": false
   },
   "outputs": [
    {
     "name": "stdout",
     "output_type": "stream",
     "text": [
      "Python 3.5.2 :: Anaconda 4.1.1 (x86_64)\r\n"
     ]
    }
   ],
   "source": [
    "!python --version"
   ]
  },
  {
   "cell_type": "markdown",
   "metadata": {},
   "source": [
    "カレントディレクトリの確認とデータディレクトリの確認をします。<br>\n",
    "osモジュールを使うことでOS依存の機能を使えるようになります。"
   ]
  },
  {
   "cell_type": "code",
   "execution_count": 2,
   "metadata": {
    "collapsed": true
   },
   "outputs": [],
   "source": [
    "import os"
   ]
  },
  {
   "cell_type": "code",
   "execution_count": 3,
   "metadata": {
    "collapsed": false
   },
   "outputs": [
    {
     "name": "stdout",
     "output_type": "stream",
     "text": [
      "['.ipynb_checkpoints', 'data', 'README.md', '評判分析入門_advanced.ipynb', '評判分析入門_normal.ipynb']\n"
     ]
    }
   ],
   "source": [
    "print( os.listdir(os.path.normpath(\"./\")) )"
   ]
  },
  {
   "cell_type": "code",
   "execution_count": 4,
   "metadata": {
    "collapsed": false
   },
   "outputs": [
    {
     "name": "stdout",
     "output_type": "stream",
     "text": [
      "['mix20_rand700_tokens.zip', 'README', 'tokens']\n"
     ]
    }
   ],
   "source": [
    "print( os.listdir(os.path.normpath(\"./data/\")) )"
   ]
  },
  {
   "cell_type": "markdown",
   "metadata": {},
   "source": [
    "## 1.dataの読み込みとモジュールのインポート"
   ]
  },
  {
   "cell_type": "markdown",
   "metadata": {},
   "source": [
    "pyenvなどを用いているとpandasなどがimportできない場合があります。<br>\n",
    "その可能性の１つとしてlocale（国毎に異なる単位）の設定不足があり得るので、ここではそれを明示的に操作します。<br>"
   ]
  },
  {
   "cell_type": "code",
   "execution_count": 5,
   "metadata": {
    "collapsed": false
   },
   "outputs": [
    {
     "name": "stdout",
     "output_type": "stream",
     "text": [
      "Your default locale is None\n",
      "Your locale is set as ja_JP.UTF-8\n"
     ]
    }
   ],
   "source": [
    "def set_locale():\n",
    "    default = os.environ.get('LC_ALL')\n",
    "    print( \"Your default locale is\", default )\n",
    "    if default is None:\n",
    "        os.environ.setdefault('LC_ALL', 'ja_JP.UTF-8')\n",
    "        print( \"Your locale is set as ja_JP.UTF-8\" )\n",
    "\n",
    "set_locale()"
   ]
  },
  {
   "cell_type": "markdown",
   "metadata": {},
   "source": [
    "今回使うデータファイルのパスをpythonのリストとして取得します。<br>\n",
    "globはパス名を見つけたりparseしたりするモジュールです( http://docs.python.jp/3/library/glob.html )。<br>\n",
    "今回扱うデータは https://www.cs.cornell.edu/people/pabo/movie-review-data/ より取得しています。<br>\n",
    "データ構造は下記のようになっています。<br>\n",
    "- data\n",
    "    - README\n",
    "    - tokens\n",
    "        - neg\n",
    "            - file1.txt\n",
    "            - file2.txt\n",
    "            - ...\n",
    "        - pos\n",
    "            - file1.txt\n",
    "            - file2.txt\n",
    "            - ..."
   ]
  },
  {
   "cell_type": "code",
   "execution_count": 6,
   "metadata": {
    "collapsed": true
   },
   "outputs": [],
   "source": [
    "import glob\n",
    "\n",
    "neg_files = glob.glob( os.path.normpath(\"./data/tokens/neg/*\") )\n",
    "pos_files = glob.glob( os.path.normpath(\"./data/tokens/pos/*\") )"
   ]
  },
  {
   "cell_type": "markdown",
   "metadata": {},
   "source": [
    "取得したファイルパスの確認。"
   ]
  },
  {
   "cell_type": "code",
   "execution_count": 7,
   "metadata": {
    "collapsed": false
   },
   "outputs": [
    {
     "name": "stdout",
     "output_type": "stream",
     "text": [
      "['data/tokens/neg/cv000_tok-9611.txt', 'data/tokens/neg/cv001_tok-19324.txt']\n",
      "['data/tokens/pos/cv000_tok-11609.txt', 'data/tokens/pos/cv001_tok-10180.txt']\n"
     ]
    }
   ],
   "source": [
    "print(neg_files[0:2])\n",
    "print(pos_files[0:2])"
   ]
  },
  {
   "cell_type": "markdown",
   "metadata": {},
   "source": [
    "データ読み込みのテストをします。\n",
    "\n",
    "実際に文章を１つ読み込んでみて正しく読み込めているかを確認します。<br>\n",
    "本データは１つのファイルに１文で映画のレビュー文章が記載されています。<br>\n",
    "テキストの読み込みはエンコーディングの問題などでエラーが生じやすいので、慣れるまでは根気強くdebugしましょう。<br>\n",
    "\n",
    "無事に読み込めたら、具体的に１つファイルの中身を読み込んで内容を確認してみましょう。<br>\n",
    "sys はファイルサイズ取得などのシステム上の操作を行うモジュールです( http://docs.python.jp/3/library/sys.html )。"
   ]
  },
  {
   "cell_type": "code",
   "execution_count": 8,
   "metadata": {
    "collapsed": false
   },
   "outputs": [],
   "source": [
    "import sys\n",
    "\n",
    "def text_reader(file_path):\n",
    "    python_version = sys.version_info.major\n",
    "    \n",
    "    if python_version >= 3:\n",
    "        with open(file_path, 'r', encoding='utf-8') as f:\n",
    "            for line in f:\n",
    "                print(line)\n",
    "    else:\n",
    "        with open(file_path, 'r') as f:\n",
    "            for line in f:\n",
    "                print(line)"
   ]
  },
  {
   "cell_type": "code",
   "execution_count": 9,
   "metadata": {
    "collapsed": false
   },
   "outputs": [
    {
     "name": "stdout",
     "output_type": "stream",
     "text": [
      "i'm going to keep this plot summary brief , something i wish mr . warren had done with his \" film \" ( i know , \" manos \" only runs 74 minutes , but that's not brief enough ) . michael ( hal warren ) leads his family on a trip out into the middle of nowhere . after being lost for a great deal of time , they stumble across a lodge run by torgo ( the late john reynolds ) , a small man with large knees . torgo informs the family that he watches the house while the master ( tom neyman ) is away . michael insists on torgo allowing his family to stay , despite the fact that michael's wife , margaret ( the late diane mahree ) , and daughter , debbie ( stephanie nielson ) , aren't too keen on staying . torgo relents and slowly carries the family's luggage into the house . meanwhile , the master awakens , and his wives ( jackey neyman , sherry proctor , robin redd ) vie for his favor by wrestling in the mud . i'm afraid i'm not an eloquent enough writer to adequately describe the experience that is \" manos , the hands of fate \" . i don't believe i can do justice to this diamond in the rough ; this magnificent piece of filmmaking that is - oh forget it , i can't even say it . \" manos , the hands of fate \" is , arguably , the worst movie of all time . imagine , if you will , the following : hal warren , a fertilizer salesman , bets a friend that he can make a popular horror film on a minimal budget . he hires several actors who have little to no experience or training ( he himself has no experience or training ) , and leads the cast through a script which consists of long spells of nothingness occurring . you're no doubt wondering why i have referred to cast members as \" the late \" ; it's because after the film was finished , and the cast laughed out of the theater at its premier , three ( that's right , three ) cast members committed suicide . \" manos \" ( which means hands , by the way ) has since become a legendary film ; one which can only be watched under one of three circumstances : you're completely drunk , completely insane , or completely asleep . while looking over the list of actors involved in this project , you'll most likely realize that none of the names sound familiar . that's because each cast member sealed his/her acting fate by appearing in this \" movie \" . not one actor involved went on to make any other picture . could appearing in a bad movie really do this to one's career ? it's doubtful . for example , barry pepper will no doubt go on to make other films after \" battlefield earth \" ( which is not to say \" battlefield earth \" is in the same league as \" manos \" ) . the chief reason none of these actors went on to other films is because none of them could act . hal warren was as incompetent in front of the camera as he was behind it ; tom neyman made van damme look like an oscar winner ; and diane mahree's part consisted of , well , nothing really . the only two actors worth noting are john reynolds and stephanie nielson . stephanie nielson may have been only a child , but she outdid every adult in the film ( she's no doubt in a mental institute somewhere after experiencing this movie ) . john reynolds , who was sadly one of the three casualties of this war , actually showed some small trace of talent . do i mean he was good ? not in the slightest . yet , i think if he'd received some schooling and experience he might have gone on to a small career . so what does a movie look like when there's no budget ? well , picture \" the blair witch project \" without the scares ( oh wait , there were no scares in \" blair witch \" ) , the extras , the scenery , or the nice cameras . you see , \" manos , the hands of fate \" was filmed with such a cheap , ancient camera that the film could only be shot in thirty two second bursts . this means there are fades and/or cuts every thirty two seconds for no reason . the costuming in \" manos \" is rather interesting . there are really only three different bits of costuming : the wives' undergarments , which they wear while fighting each other ; the master's cloak of hands , which is a large cloak covered in large hands ( something involving the god manos , whom he serves ) ; and torgo's knees . torgo's knees , by the way , may look like nothing more than large anomalies stuck to his legs , but they're actually an ingenious invention thought up by john reynolds . torgo is actually supposed to be a satyr , and the large knees were supposed to represent goat legs . i'm not quite sure how reynolds thought this up , and i'm not sure how we were supposed to know they were goat legs , and i'm not even sure why torgo is supposed to be a satyr , but there you have it . there are two more things worth noting in \" manos \" . one is the dialogue , particularly that of torgo ; the other is the soundtrack . torgo's dialogue generally consists of repeating the same phrases over and over again . for example , when asked about the master's health , torgo states : \" dead ? no , madam . not dead the way you know it . he is with us always . not dead the way you know it . he is with us always . \" i think warren wanted to emphasize the fact that he wasn't dead like we know it , but i could be wrong . torgo also states , in a line vaguely ( very vaguely ) reminiscent of a classic line from rosalie crutchley in \" the haunting \" : \" there is no way out of here . it'll be dark soon . there is no way out of here . \" it should be noted that the camera used was so ancient and decrepit that it could not record sound . therefore , all the characters voices were dubbed by four different people : hal warren , hal's wife , and two friends . the soundtrack to \" manos \" is certainly one of the high-points . after some strange and out of place lounge music in the film's opening ( which consists of a lot of driving ) we settle into the torgo theme , which is made up of six notes played over and over again till you're certain your ears will begin to bleed . if i haven't made this film sound bad enough , and you are unfortunate enough to go and witness it , i do apologize . i'd recommend \" manos , the hands of fate \" to those who simply adore classic bad movies ( because this one ranks amongst the worst ) and award it a full one out of five stars . comments ? send to : <a href= \" mailto : johnbeachem@dependentfilms . net \" >johnbeachem@dependentfilms . net</a>past reviews can be found at : <a href= \" http : //www . epinions . com/user-elerad ? public=yes \" >http : //www . epinions . com/user-elerad ? public=yes</a> or <a href= \" http : //us . imdb . com/reviewsby ? john + beachem \" >http : //us . imdb . com/reviewsby ? john + beachem</a> * * * * * - one of the best movies of the year . * * * * - great flick , try and catch this one . * * * - okay movie , hits and misses . * * - pretty bad , see it at your own risk . * - see this one only if you enjoy pain . <hr>get your private , free e-mail from msn hotmail at <a href= \" http : //www . hotmail . com . \" >http : //www . hotmail . com . </a> share information about yourself , create your own public profile at <a href= \" http : //profiles . msn . com . \" >http : //profiles . msn . com . </a> \n",
      "\n"
     ]
    }
   ],
   "source": [
    "text_reader(neg_files[4])"
   ]
  },
  {
   "cell_type": "markdown",
   "metadata": {},
   "source": [
    "htmlのタグで埋め込まれている情報やレビュー点数のつけ方の説明などは有用でない情報だと思われます。<br>\n",
    "それを除くために正規表現を使ってテキストを置き換えます。\n",
    "- re : python の正規表現モジュール<br>\n",
    "http://docs.python.jp/3/library/re.html"
   ]
  },
  {
   "cell_type": "code",
   "execution_count": 10,
   "metadata": {
    "collapsed": true
   },
   "outputs": [],
   "source": [
    "import re"
   ]
  },
  {
   "cell_type": "code",
   "execution_count": 11,
   "metadata": {
    "collapsed": false
   },
   "outputs": [
    {
     "name": "stdout",
     "output_type": "stream",
     "text": [
      "i'm going to keep this plot summary brief , something i wish mr . warren had done with his \" film \" ( i know , \" manos \" only runs 74 minutes , but that's not brief enough ) . michael ( hal warren ) leads his family on a trip out into the middle of nowhere . after being lost for a great deal of time , they stumble across a lodge run by torgo ( the late john reynolds ) , a small man with large knees . torgo informs the family that he watches the house while the master ( tom neyman ) is away . michael insists on torgo allowing his family to stay , despite the fact that michael's wife , margaret ( the late diane mahree ) , and daughter , debbie ( stephanie nielson ) , aren't too keen on staying . torgo relents and slowly carries the family's luggage into the house . meanwhile , the master awakens , and his wives ( jackey neyman , sherry proctor , robin redd ) vie for his favor by wrestling in the mud . i'm afraid i'm not an eloquent enough writer to adequately describe the experience that is \" manos , the hands of fate \" . i don't believe i can do justice to this diamond in the rough ; this magnificent piece of filmmaking that is - oh forget it , i can't even say it . \" manos , the hands of fate \" is , arguably , the worst movie of all time . imagine , if you will , the following : hal warren , a fertilizer salesman , bets a friend that he can make a popular horror film on a minimal budget . he hires several actors who have little to no experience or training ( he himself has no experience or training ) , and leads the cast through a script which consists of long spells of nothingness occurring . you're no doubt wondering why i have referred to cast members as \" the late \" ; it's because after the film was finished , and the cast laughed out of the theater at its premier , three ( that's right , three ) cast members committed suicide . \" manos \" ( which means hands , by the way ) has since become a legendary film ; one which can only be watched under one of three circumstances : you're completely drunk , completely insane , or completely asleep . while looking over the list of actors involved in this project , you'll most likely realize that none of the names sound familiar . that's because each cast member sealed his/her acting fate by appearing in this \" movie \" . not one actor involved went on to make any other picture . could appearing in a bad movie really do this to one's career ? it's doubtful . for example , barry pepper will no doubt go on to make other films after \" battlefield earth \" ( which is not to say \" battlefield earth \" is in the same league as \" manos \" ) . the chief reason none of these actors went on to other films is because none of them could act . hal warren was as incompetent in front of the camera as he was behind it ; tom neyman made van damme look like an oscar winner ; and diane mahree's part consisted of , well , nothing really . the only two actors worth noting are john reynolds and stephanie nielson . stephanie nielson may have been only a child , but she outdid every adult in the film ( she's no doubt in a mental institute somewhere after experiencing this movie ) . john reynolds , who was sadly one of the three casualties of this war , actually showed some small trace of talent . do i mean he was good ? not in the slightest . yet , i think if he'd received some schooling and experience he might have gone on to a small career . so what does a movie look like when there's no budget ? well , picture \" the blair witch project \" without the scares ( oh wait , there were no scares in \" blair witch \" ) , the extras , the scenery , or the nice cameras . you see , \" manos , the hands of fate \" was filmed with such a cheap , ancient camera that the film could only be shot in thirty two second bursts . this means there are fades and/or cuts every thirty two seconds for no reason . the costuming in \" manos \" is rather interesting . there are really only three different bits of costuming : the wives' undergarments , which they wear while fighting each other ; the master's cloak of hands , which is a large cloak covered in large hands ( something involving the god manos , whom he serves ) ; and torgo's knees . torgo's knees , by the way , may look like nothing more than large anomalies stuck to his legs , but they're actually an ingenious invention thought up by john reynolds . torgo is actually supposed to be a satyr , and the large knees were supposed to represent goat legs . i'm not quite sure how reynolds thought this up , and i'm not sure how we were supposed to know they were goat legs , and i'm not even sure why torgo is supposed to be a satyr , but there you have it . there are two more things worth noting in \" manos \" . one is the dialogue , particularly that of torgo ; the other is the soundtrack . torgo's dialogue generally consists of repeating the same phrases over and over again . for example , when asked about the master's health , torgo states : \" dead ? no , madam . not dead the way you know it . he is with us always . not dead the way you know it . he is with us always . \" i think warren wanted to emphasize the fact that he wasn't dead like we know it , but i could be wrong . torgo also states , in a line vaguely ( very vaguely ) reminiscent of a classic line from rosalie crutchley in \" the haunting \" : \" there is no way out of here . it'll be dark soon . there is no way out of here . \" it should be noted that the camera used was so ancient and decrepit that it could not record sound . therefore , all the characters voices were dubbed by four different people : hal warren , hal's wife , and two friends . the soundtrack to \" manos \" is certainly one of the high-points . after some strange and out of place lounge music in the film's opening ( which consists of a lot of driving ) we settle into the torgo theme , which is made up of six notes played over and over again till you're certain your ears will begin to bleed . if i haven't made this film sound bad enough , and you are unfortunate enough to go and witness it , i do apologize . i'd recommend \" manos , the hands of fate \" to those who simply adore classic bad movies ( because this one ranks amongst the worst ) and award it a full one out of five stars . comments ? send to : HTML_TAGpast reviews can be found at : HTML_TAG or HTML_TAG REVIEW_FORMAT <hr>get your private , free e-mail from msn hotmail at HTML_TAG share information about yourself , create your own public profile at HTML_TAG \n",
      "\n"
     ]
    }
   ],
   "source": [
    "if sys.version_info.major >= 3:\n",
    "    with open(neg_files[4], 'r', encoding='utf-8') as f:\n",
    "        for line in f:\n",
    "            line = re.sub( r'\\*.\\*.\\*.\\*.\\*{0}+\\*.\\*.\\*.\\*{0}+\\*.\\*.\\*{0}+\\*.\\*{0}+\\*[^\\.]+\\.'.format('[^\\*]'), \"REVIEW_FORMAT\" , line )\n",
    "            line = re.sub(r'<a(.*?)</a>',\"HTML_TAG\", line)\n",
    "            print(line)\n",
    "else:\n",
    "    with open(neg_files[4], 'r') as f:\n",
    "        for line in f:\n",
    "            line = re.sub( r'\\*.\\*.\\*.\\*.\\*{0}+\\*.\\*.\\*.\\*{0}+\\*.\\*.\\*{0}+\\*.\\*{0}+\\*[^\\.]+\\.'.format('[^\\*]'), \"REVIEW_FORMAT\" , line )\n",
    "            line = re.sub(r'<a(.*?)</a>',\"HTML_TAG\", line)\n",
    "            print(line)"
   ]
  },
  {
   "cell_type": "markdown",
   "metadata": {},
   "source": [
    "モジュールをインポートします。<br>\n",
    "%matplotlib inline コマンドは notebook 上でグラフなどを表示させるためのものです。"
   ]
  },
  {
   "cell_type": "code",
   "execution_count": 12,
   "metadata": {
    "collapsed": true
   },
   "outputs": [],
   "source": [
    "%matplotlib inline\n",
    "import matplotlib\n",
    "import pandas as pd\n",
    "\n",
    "import collections\n",
    "import numpy as np\n",
    "\n",
    "from sklearn.feature_extraction import DictVectorizer\n",
    "\n",
    "from sklearn import svm, naive_bayes\n",
    "from sklearn.ensemble import RandomForestClassifier\n",
    "\n",
    "from sklearn import grid_search"
   ]
  },
  {
   "cell_type": "markdown",
   "metadata": {
    "collapsed": true
   },
   "source": [
    "## 2.有用な特徴ベクトルの作成"
   ]
  },
  {
   "cell_type": "markdown",
   "metadata": {},
   "source": [
    "まずは同様に unigram を作成します。"
   ]
  },
  {
   "cell_type": "code",
   "execution_count": 13,
   "metadata": {
    "collapsed": true
   },
   "outputs": [],
   "source": [
    "def word_counter(string):\n",
    "    words = string.strip().split()\n",
    "    count_dict = collections.Counter(words)\n",
    "    return dict(count_dict)\n",
    "\n",
    "def get_unigram(file_path):\n",
    "    result = []\n",
    "    python_version = sys.version_info.major\n",
    "    \n",
    "    if python_version >= 3:\n",
    "        for file in file_path:\n",
    "            with open(file, 'r', encoding='utf-8') as f:\n",
    "                for line in f:\n",
    "                    count_dict = word_counter(line)\n",
    "                    result.append(count_dict)\n",
    "    else:\n",
    "        for file in file_path:\n",
    "            with open(file, 'r') as f:\n",
    "                for line in f:\n",
    "                    count_dict = word_counter(line)\n",
    "                    result.append(count_dict)\n",
    "    \n",
    "    return result"
   ]
  },
  {
   "cell_type": "markdown",
   "metadata": {},
   "source": [
    "この関数を用いて、negative と positive 両方で unigram を作成します。<br>\n",
    "得られた2つのリストを合わせてモデルのインプット（説明変数）とします。\n",
    "リストの結合は \"+\" で実施できます。 ex.) [1] + [2] = [1,2]<br>\n",
    "negative と positive は各700文ずつありますが、そのうちいくつを使うかをここで指定します。初期設定では全てのデータを使うことになっていますが、後の過程で memory 不足になるようでしたらこの数を減らしてください。<br>\n",
    "\n",
    "また、 jupyter notebook では %% をつけることで magic commands ( https://ipython.org/ipython-doc/3/interactive/magics.html ) という便利なコマンドを実行できます。ここでは処理にかかる時間をセルに表示するコマンドを使用しています。"
   ]
  },
  {
   "cell_type": "code",
   "execution_count": 14,
   "metadata": {
    "collapsed": false
   },
   "outputs": [
    {
     "name": "stdout",
     "output_type": "stream",
     "text": [
      "CPU times: user 374 ms, sys: 190 ms, total: 564 ms\n",
      "Wall time: 888 ms\n"
     ]
    }
   ],
   "source": [
    "%%time\n",
    "\n",
    "DATA_NUM = 700\n",
    "\n",
    "unigrams_data = get_unigram(neg_files[:DATA_NUM]) + get_unigram(pos_files[:DATA_NUM])"
   ]
  },
  {
   "cell_type": "markdown",
   "metadata": {},
   "source": [
    "得られたunigram_dataを確認してみます。単語の出現数がカウントされていることが確認できます。<br>\n",
    "合わせてそのデータサイズも確認してみます。"
   ]
  },
  {
   "cell_type": "code",
   "execution_count": 15,
   "metadata": {
    "collapsed": false
   },
   "outputs": [
    {
     "name": "stdout",
     "output_type": "stream",
     "text": [
      "{'.': 31, 'mention': 1, 'rourke': 2, 'of': 3, 'gangster': 1, 'dennis': 3, 'frenetic': 1, \"rodman's\": 1, 'mailto': 1, 'down': 2, 'going': 3, 'decided': 1, 'fits': 1, 'ripe': 1, 'notch': 1, 'stunt': 1, \"he's\": 3, 'from': 1, 'freeman': 1, 'van': 4, 'edu</a>': 1, 'strange': 1, 'by': 1, 'loud': 1, 'park': 1, 'tell': 1, 'lindinger': 2, 'looks': 1, 'timecop': 1, 'eye-popping': 1, 'can': 1, 'ex-cia': 1, 'for': 4, 'one': 2, 'exuberantly': 1, 'roman': 1, 'career': 1, 'up': 4, \"hark's\": 1, 'rome': 1, \"didn't\": 1, 'critic': 1, 'numerous': 1, 'happen': 1, 'possesses': 1, 'arms': 1, 'amusement': 1, 'peter': 1, 'known': 1, 'movie-bedpost': 1, 'whole': 1, 'monks': 1, 'make': 1, 'some': 2, 'paul': 2, 'albeit': 1, '>http': 1, '(': 6, 'gets': 1, 'exhausted': 1, 'out': 3, 'locks': 1, 'superstar': 1, 'screen': 1, 'head-to-head': 1, 'seagal': 1, '\"': 22, 'opponent': 1, 'an': 5, 'requires': 1, 'valuable': 1, 'pleasure': 1, 'edu/~jpeck1/': 1, 'steven': 1, 'work': 2, 'genre': 1, 'home': 1, ':': 9, 'bomb': 1, 'is': 9, 'enough': 1, 'world': 1, 'needs': 2, 'it': 2, '<a': 2, 'i': 2, 'dealer': 1, '--': 3, 'href=': 2, 'counter-terrorist': 1, 'kidnaps': 1, 'online': 1, 'gl': 2, 'hold': 1, 'did': 2, 'tiger': 1, 'director': 1, 'escapes': 1, 'tristar': 1, 'set': 1, 'formula': 1, 'pretty': 2, 'while': 2, 'killed': 1, \"stavros'\": 1, 'extremely': 1, 'leading': 1, 'persona': 1, 'actually': 1, 'travel': 1, 'double': 5, 'tries': 2, 'much': 4, 'deal': 1, 'explosions': 1, 'us': 2, 'power': 1, 'e-mail': 1, 'brite': 1, 'stavros': 4, 'comes': 1, 'mones': 1, \"neither's\": 1, 'rub': 1, 'running': 1, 'boy': 1, 'result': 2, 'action': 1, 'watches': 1, 'they': 1, 'hollywood': 1, 'island': 1, 'slows': 1, 'movie': 3, 'tank': 1, 'her': 1, 'if': 1, 'never': 3, 'bleachers': 1, 'level': 1, 'avoid': 1, ')': 6, 'profanity': 1, 'nba': 1, 'wacky': 1, 'violence': 1, 'hark': 1, 'finds': 1, 'lite': 1, 'dan': 1, 'enjoyable': 1, ';': 6, 'defend': 1, 'visit': 1, 'camera': 1, 'need': 2, 'acting': 1, 'quinn': 5, 'back': 1, 'baby': 1, 'too': 3, 'always': 1, 'entertaining': 1, 'edu': 1, 'natacha': 2, 'feels': 1, 'gratuitous': 1, 'who': 1, \"who's\": 1, 'high': 1, 'major': 1, 'things': 1, 'expert': 1, 'them': 2, 'beefy': 1, 'so': 3, 'lunch': 1, 'mercenary': 1, 'his': 4, 'deadly': 1, 'indulge': 1, 'even': 1, '?': 3, 'namely': 1, 'he': 4, 'kill': 2, 'mildly': 1, 'killathon': 1, 'figure': 1, 'save': 1, 'with': 5, 'on': 5, 'a': 13, 'when': 2, 'tipsy': 1, 'but': 4, 'you': 1, 'off': 1, 'kickboxing': 1, 'hairdos': 1, 'free': 1, 'peck': 1, 'net-surfing': 1, 'just': 3, 'this': 2, 'equipped': 1, 'land': 1, 'should': 2, 'operative': 1, 'son': 1, 'wife': 1, 'another': 2, 'vibrant': 1, 'job': 1, 'r': 1, \"1994's\": 1, 'no': 1, 'gunfire': 1, 'crazy': 1, 'between': 1, 'whatever': 1, 'tsui': 2, 'weapons': 1, 'really': 1, 'teams': 1, '30': 1, 'else': 1, 'jpeck1@gl': 1, 'juices': 1, 'shirtless': 1, 'aim': 1, 'rescue': 1, 'could': 1, 'screenplay': 2, 'colorful': 1, 'jack': 1, 'reel': 1, 'each': 1, \"it's\": 2, 'two': 1, 'mass': 1, 'plays': 1, 'to': 20, 'http': 1, 'jamie': 1, 'witty': 1, 'guilty': 1, 'are': 1, 'bad': 2, 'jakoby': 1, 'woman': 1, 'pau': 1, 'death': 1, 'soldiers': 1, 'dangerous': 1, 'cast': 1, '1997': 2, 'that': 10, 'scenes': 1, \"quinn's\": 1, 'team': 5, 'we': 2, 'care': 1, 'antwerp': 1, 'colony': 1, 'often': 1, 'do': 4, 'jean-claude': 2, 'trying': 1, 'rarely': 1, ',': 25, 'charisma': 1, 'kicks': 1, 'botched': 1, 'must': 1, 'well': 1, 'language': 1, 'pacing': 1, 'yaz': 3, 'since': 1, 'have': 2, 'in': 8, 'weird-looking': 1, \"there's\": 1, 'basket': 1, 'role': 2, 'devoted': 1, 'and': 17, 'the': 20, 'umbc': 4, 'made': 1, \"i've\": 1, 'stars': 1, 'motorcycle': 1, 'circles': 1, 'edu/~jpeck1/</a>': 1, 'over': 1, 'than': 1, '1': 1, \"what's\": 3, 'therefore': 1, 'be': 2, 'as': 1, 'rodman': 7, 'where': 1, '>jpeck1@gl': 1, 'though': 1, 'leaves': 1, 'pregnant': 1, 'damme': 4, 'revenge': 1, 'segment': 1, 'legs': 1, 'been': 1, 'mickey': 2, 'coliseum': 1, 'about': 1, '/': 3, 'exhilarated': 1, 'performance': 1, '//www': 2, 'taken': 1, 't': 1, 'weird': 1, 'story': 1, 'rather': 1, 'headache-inducing': 1, 'think': 1, 'climax': 1, 'frame': 1, 'all': 4, 'yet': 1, 'blatantly': 1, 'mines': 1}\n",
      "data size : 0.011264 [MB]\n"
     ]
    }
   ],
   "source": [
    "print( unigrams_data[0] )\n",
    "print( \"data size :\", sys.getsizeof(unigrams_data) / 1000000., \"[MB]\" )"
   ]
  },
  {
   "cell_type": "markdown",
   "metadata": {},
   "source": [
    "有用な単語とそうでない単語を見分けるために、全文章に現れる単語の数をカウントしてみます。"
   ]
  },
  {
   "cell_type": "code",
   "execution_count": 16,
   "metadata": {
    "collapsed": false
   },
   "outputs": [
    {
     "name": "stdout",
     "output_type": "stream",
     "text": [
      "CPU times: user 42.5 s, sys: 407 ms, total: 42.9 s\n",
      "Wall time: 43.6 s\n"
     ]
    }
   ],
   "source": [
    "%%time\n",
    "\n",
    "from collections import Counter\n",
    "feature_count = sum( (Counter(dict(x)) for x in unigrams_data), Counter() )"
   ]
  },
  {
   "cell_type": "markdown",
   "metadata": {},
   "source": [
    "利便性のため、カウント数の降順と昇順で並び替えたリストを保持しておきます。<br>\n",
    "ここでは key と value のセットである feature_count.items() に対して、lambda式（ http://docs.python.jp/3.5/reference/expressions.html ）を用いて value の値に対する sort を行っています。"
   ]
  },
  {
   "cell_type": "code",
   "execution_count": 17,
   "metadata": {
    "collapsed": false
   },
   "outputs": [],
   "source": [
    "wc_desc = sorted( feature_count.items(), key=lambda x:x[1], reverse=True )\n",
    "wc_asc = sorted( feature_count.items(), key=lambda x:x[1], reverse=False )"
   ]
  },
  {
   "cell_type": "code",
   "execution_count": 18,
   "metadata": {
    "collapsed": false
   },
   "outputs": [
    {
     "data": {
      "text/plain": [
       "44219"
      ]
     },
     "execution_count": 18,
     "metadata": {},
     "output_type": "execute_result"
    }
   ],
   "source": [
    "len(wc_desc)"
   ]
  },
  {
   "cell_type": "markdown",
   "metadata": {},
   "source": [
    "単語の出現頻度をヒストグラムで調べてみます。"
   ]
  },
  {
   "cell_type": "code",
   "execution_count": 19,
   "metadata": {
    "collapsed": false,
    "scrolled": true
   },
   "outputs": [
    {
     "data": {
      "text/plain": [
       "array([[<matplotlib.axes._subplots.AxesSubplot object at 0x118c23278>]], dtype=object)"
      ]
     },
     "execution_count": 19,
     "metadata": {},
     "output_type": "execute_result"
    },
    {
     "data": {
      "image/png": "[encoded data removed]",
      "text/plain": [
       "<matplotlib.figure.Figure at 0x115092b00>"
      ]
     },
     "metadata": {},
     "output_type": "display_data"
    }
   ],
   "source": [
    "pd.DataFrame( [elem[1] for elem in wc_desc] ).hist(bins=50 , log=True, bottom=1)"
   ]
  },
  {
   "cell_type": "markdown",
   "metadata": {},
   "source": [
    "出現回数が少ない単語が非常に多いことが分かります。<br>\n",
    "ここで得られた分布が一般的なものかどうかをみるために、単語の出現頻度とその順位に関する Zipf's law ( https://en.wikipedia.org/wiki/Zipf%27s_law ) が成り立つかを調べてみます。<br>"
   ]
  },
  {
   "cell_type": "code",
   "execution_count": 20,
   "metadata": {
    "collapsed": false
   },
   "outputs": [
    {
     "data": {
      "text/plain": [
       "<matplotlib.axes._subplots.AxesSubplot at 0x11a668f60>"
      ]
     },
     "execution_count": 20,
     "metadata": {},
     "output_type": "execute_result"
    },
    {
     "data": {
      "image/png": "[encoded data removed]",
      "text/plain": [
       "<matplotlib.figure.Figure at 0x1150fe358>"
      ]
     },
     "metadata": {},
     "output_type": "display_data"
    }
   ],
   "source": [
    "pd.DataFrame( \n",
    "    [( np.log10(idx), np.log10(word_count[1]) ) for idx, word_count in enumerate(wc_desc, start=1)]\n",
    ").plot(x=0, y=1,kind='scatter')"
   ]
  },
  {
   "cell_type": "markdown",
   "metadata": {},
   "source": [
    "綺麗にべき分布に乗っている様子が確認できます。<br>\n",
    "さらに、具体的に対出現回数が多い上位の単語を眺めてみます。"
   ]
  },
  {
   "cell_type": "code",
   "execution_count": 21,
   "metadata": {
    "collapsed": false
   },
   "outputs": [
    {
     "data": {
      "text/plain": [
       "[(',', 57760),\n",
       " ('the', 50839),\n",
       " ('.', 49517),\n",
       " ('a', 25993),\n",
       " ('and', 24391),\n",
       " ('of', 23109),\n",
       " ('to', 21059),\n",
       " ('is', 16935),\n",
       " ('in', 14737),\n",
       " ('\"', 14187),\n",
       " ('that', 9892),\n",
       " (')', 9230),\n",
       " ('(', 9182),\n",
       " ('it', 8144),\n",
       " ('with', 7389),\n",
       " ('as', 7368),\n",
       " ('for', 6791),\n",
       " ('his', 6405),\n",
       " ('this', 6384),\n",
       " ('film', 6085)]"
      ]
     },
     "execution_count": 21,
     "metadata": {},
     "output_type": "execute_result"
    }
   ],
   "source": [
    "wc_desc[0:20]"
   ]
  },
  {
   "cell_type": "markdown",
   "metadata": {},
   "source": [
    "上位に現れる単語は判別には到底関係なさそうな単語や文字列が並んでいるように見えます。<br>\n",
    "これらの単語や文字列はモデルには必要ないと考えられるため、特定の単語や文字列を削除するスクリプトを作成して除外するようにします。<br>"
   ]
  },
  {
   "cell_type": "markdown",
   "metadata": {},
   "source": [
    "re.escape : メタ文字をエスケープ　ex.) re.escape(r'*.txt') → /*/.txt <br>\n",
    "map : 全ての要素に処理を行う　ex.) map(func, [a,b,c]) → [func(a), func(b), func(c)]  <br>\n",
    "re.compile(string).sub(x, y) : string にある x を y に置換する <br>\n",
    "\n",
    "pythonの正規表現に関しては https://github.com/tartley/python-regex-cheatsheet/blob/master/cheatsheet.rst などが参考になります。"
   ]
  },
  {
   "cell_type": "code",
   "execution_count": 22,
   "metadata": {
    "collapsed": false
   },
   "outputs": [],
   "source": [
    "def multiple_replace(dict, text):\n",
    "    # Compile regular expressions\n",
    "    regex = re.compile( r\"(%s)\" % \"|\".join( map(re.escape, dict.keys()) ) )\n",
    "\n",
    "    # Replace\n",
    "    return regex.sub( lambda x: dict[ x.string[x.start():x.end()] ], text ) "
   ]
  },
  {
   "cell_type": "markdown",
   "metadata": {},
   "source": [
    "関数の振る舞いが望ましいものかを確認します。"
   ]
  },
  {
   "cell_type": "code",
   "execution_count": 23,
   "metadata": {
    "collapsed": false
   },
   "outputs": [
    {
     "data": {
      "text/plain": [
       "'condition is condition200'"
      ]
     },
     "execution_count": 23,
     "metadata": {},
     "output_type": "execute_result"
    }
   ],
   "source": [
    "multiple_replace({'1': \"\", '2' : \"200\"}, \"condition1 is condition2\")"
   ]
  },
  {
   "cell_type": "markdown",
   "metadata": {},
   "source": [
    "この関数を使って置換の辞書を作成してみます。<br>\n",
    "例えば出現回数は多いがそれ自体は意味を持たない記号や出現回数が少なくて有用でない単語などが考えられます。<br>\n",
    "出現回数が少ないものとして、ここでは一度しか現れない単語を抜き出してみます。<br>"
   ]
  },
  {
   "cell_type": "code",
   "execution_count": 24,
   "metadata": {
    "collapsed": false
   },
   "outputs": [
    {
     "name": "stdout",
     "output_type": "stream",
     "text": [
      "[(',', 57760), ('the', 50839), ('.', 49517), ('a', 25993), ('and', 24391), ('of', 23109), ('to', 21059), ('is', 16935), ('in', 14737), ('\"', 14187), ('that', 9892), (')', 9230), ('(', 9182), ('it', 8144), ('with', 7389), ('as', 7368), ('for', 6791), ('his', 6405), ('this', 6384), ('film', 6085)]\n",
      "End position of counting number = 1 : 19571\n"
     ]
    }
   ],
   "source": [
    "print(wc_desc[0:20])\n",
    "\n",
    "for i in range(len(wc_asc)):\n",
    "    if wc_asc[i][1] == 2:\n",
    "        print(\"End position of counting number = 1 :\", i)\n",
    "        break"
   ]
  },
  {
   "cell_type": "markdown",
   "metadata": {},
   "source": [
    "適切な場所が抜き出せているかを確認します。"
   ]
  },
  {
   "cell_type": "code",
   "execution_count": 25,
   "metadata": {
    "collapsed": false
   },
   "outputs": [
    {
     "data": {
      "text/plain": [
       "[('misjudged', 1),\n",
       " ('reggae', 2),\n",
       " ('exchanging', 2),\n",
       " (\"creatures'\", 2),\n",
       " ('castellano', 2),\n",
       " ('mugge', 2),\n",
       " ('twitches', 2),\n",
       " ('unspectacular', 2),\n",
       " (\"therapist's\", 2),\n",
       " ('cushing', 2)]"
      ]
     },
     "execution_count": 25,
     "metadata": {},
     "output_type": "execute_result"
    }
   ],
   "source": [
    "wc_asc[19570:19580]"
   ]
  },
  {
   "cell_type": "markdown",
   "metadata": {},
   "source": [
    "ここでは出現回数が多い単語のみを辞書に登録しておきます。（出現回数が少ないものを削ると精度が落ちてしまうため）<br>\n",
    "以下のセルでは出現回数の多いものと少ないものの辞書を作る処理を準備しましたが、コメントアウトしています。<br>\n",
    "代わりにその下のセルで明示的に辞書を作成しています。"
   ]
  },
  {
   "cell_type": "code",
   "execution_count": 26,
   "metadata": {
    "collapsed": false
   },
   "outputs": [],
   "source": [
    "#target_dicts = {\"\":\"\"}\n",
    "\n",
    "#for i in range(10):\n",
    "#    target_dicts[ \" \"+wc_desc[i][0]+\" \" ] = ' '\n",
    "\n",
    "#for i in range(19571):\n",
    "#    target_dicts[ \" \"+wc_asc[i][0]+\" \" ] = ''"
   ]
  },
  {
   "cell_type": "markdown",
   "metadata": {},
   "source": [
    "スペースの入れ方に気をつけて辞書を定義します。<br>\n",
    "ここではごく一部だけを採用しすることにします。"
   ]
  },
  {
   "cell_type": "code",
   "execution_count": 27,
   "metadata": {
    "collapsed": true
   },
   "outputs": [],
   "source": [
    "target_dicts = {\n",
    "    '\"': ''\n",
    "    , ',': ''\n",
    "    , '.': ''\n",
    "    , ' a ': ' '\n",
    "    , ' and ': ' '\n",
    "    , ' in ': ' '\n",
    "    , ' is ': ' '\n",
    "    , ' of ': ' '\n",
    "    , ' the ': ' '\n",
    "    , ' to ': ' '\n",
    "    , '-': ' '\n",
    "    , '(': ' '\n",
    "    , ')': ' '\n",
    "}"
   ]
  },
  {
   "cell_type": "markdown",
   "metadata": {},
   "source": [
    "これまでの内容を取り入れた処理を実施する関数を定義します。かなり ad hoc な作り方になっていますが、何をしているのか読み解いて見てください。<br>\n",
    "さらに論文に従って not で始まる単語に関してはその次の単語まで含めた単語を作ります。 ex.) not good → not_good <br>"
   ]
  },
  {
   "cell_type": "code",
   "execution_count": 28,
   "metadata": {
    "collapsed": true
   },
   "outputs": [],
   "source": [
    "def text_processor(text, target_dicts):\n",
    "    text = re.sub( r'\\*.\\*.\\*.\\*.\\*{0}+\\*.\\*.\\*.\\*{0}+\\*.\\*.\\*{0}+\\*.\\*{0}+\\*[^\\.]+\\.'.format('[^\\*]'), \" \" , text )\n",
    "    text = re.sub( r'<a(.*?)</a>',\"html_tag\", text )\n",
    "\n",
    "    processed_text = multiple_replace(target_dicts, text)\n",
    "    words = processed_text.lower().strip().split()\n",
    "    \n",
    "    not_bigram = [ \"{0}_{1}\".format(i,j) for i,j in zip(words, words[1:]) if i.lower() in [\"not\"] ]\n",
    "    words.extend( not_bigram )\n",
    "\n",
    "    count_dicts = collections.Counter(words)\n",
    "    \n",
    "    return count_dicts\n",
    "\n",
    "\n",
    "def get_feature_count(file_paths, target_dicts):\n",
    "    result = []\n",
    "    python_version = sys.version_info.major\n",
    "    \n",
    "    if python_version >= 3:\n",
    "        for idx, file in enumerate(file_paths, start=1):\n",
    "            print( \"{0}th data is being processed.\".format(idx) ) if idx % 100 == 0 else None \n",
    "            with open(file, 'r', encoding='utf-8') as f:\n",
    "                for line in f:\n",
    "                    count_dicts = text_processor(line, target_dicts)\n",
    "                    result.append( dict(count_dicts) )\n",
    "        return result\n",
    "    else:\n",
    "        for idx, file in enumerate(file_paths, start=1):\n",
    "            print( \"{0}th data is being processed.\".format(idx) ) if idx % 100 == 0 else None \n",
    "            with open(file, 'r') as f:\n",
    "                for line in f:\n",
    "                    count_dicts = text_processor(line, target_dicts)\n",
    "                    result.append( dict(count_dicts) )\n",
    "        return result"
   ]
  },
  {
   "cell_type": "markdown",
   "metadata": {},
   "source": [
    "関数の振る舞いを確認します。"
   ]
  },
  {
   "cell_type": "code",
   "execution_count": 29,
   "metadata": {
    "collapsed": false
   },
   "outputs": [
    {
     "data": {
      "text/plain": [
       "Counter({'am': 1,\n",
       "         'but': 1,\n",
       "         'code': 1,\n",
       "         'data': 1,\n",
       "         'good': 1,\n",
       "         'great': 1,\n",
       "         'i': 1,\n",
       "         'my': 1,\n",
       "         'not': 1,\n",
       "         'not_good': 1,\n",
       "         'scientist': 1})"
      ]
     },
     "execution_count": 29,
     "metadata": {},
     "output_type": "execute_result"
    }
   ],
   "source": [
    "text_processor(\"I am a great data scientist. But my code is not good\", target_dicts)"
   ]
  },
  {
   "cell_type": "markdown",
   "metadata": {},
   "source": [
    "処理を実行して unigram feature を作成します。"
   ]
  },
  {
   "cell_type": "code",
   "execution_count": 30,
   "metadata": {
    "collapsed": false
   },
   "outputs": [
    {
     "name": "stdout",
     "output_type": "stream",
     "text": [
      "100th data is being processed.\n",
      "200th data is being processed.\n",
      "300th data is being processed.\n",
      "400th data is being processed.\n",
      "500th data is being processed.\n",
      "600th data is being processed.\n",
      "700th data is being processed.\n",
      "100th data is being processed.\n",
      "200th data is being processed.\n",
      "300th data is being processed.\n",
      "400th data is being processed.\n",
      "500th data is being processed.\n",
      "600th data is being processed.\n",
      "700th data is being processed.\n",
      "CPU times: user 1.18 s, sys: 146 ms, total: 1.33 s\n",
      "Wall time: 1.71 s\n"
     ]
    }
   ],
   "source": [
    "%%time\n",
    "\n",
    "word_feature = \\\n",
    "    get_feature_count( neg_files[:DATA_NUM], target_dicts ) \\\n",
    "    + get_feature_count( pos_files[:DATA_NUM], target_dicts )"
   ]
  },
  {
   "cell_type": "code",
   "execution_count": 31,
   "metadata": {
    "collapsed": false,
    "scrolled": true
   },
   "outputs": [
    {
     "name": "stdout",
     "output_type": "stream",
     "text": [
      "{'brooding': 1, 'they': 1, 'from': 2, 'marsha': 2, '?': 1, 'them': 1, 'both': 1, 'watching': 1, 'be': 1, 'gary': 1, 'still': 2, 'street': 1, 'seventies': 1, 'niche': 1, 'with': 2, 'on': 2, 'a': 3, 'years': 1, 'see': 1, 'her': 3, 'christine': 1, 'while': 1, 'brady': 6, 'though': 1, 'you': 1, 'granted': 1, 'blues': 1, 'by': 2, 'sanitary': 1, 'seems': 1, 'has': 3, 'uniformly': 1, 'manor': 1, 'exception': 1, 'for': 1, 'this': 2, 'sitcom': 1, 'taylor': 1, 'what': 1, 'should': 1, 'reruns': 1, 'changed': 1, 'at': 1, 'not': 2, 'rod': 1, 'point': 1, 'plot': 1, 'between': 1, 'disturbing': 1, 'serling': 1, 'make': 1, 'really': 1, 'some': 1, 'sexual': 1, 'minor': 1, 'future': 1, 'problem': 1, \"she's\": 1, 'out': 2, 'brushing': 1, 'innuendo': 1, 'yet': 1, 'garish': 1, 'fame': 1, 'nite': 1, 'alice': 1, 'ago': 1, 'material': 1, 'right': 1, 'sharp': 1, 'delight': 1, \"isn't\": 1, \"tv's\": 1, 'expect': 1, 'chicks': 1, \"it's\": 2, 'considers': 1, 'everything': 1, 'betty': 1, 'day': 1, 'production': 1, 'world': 1, 'are': 3, 'less': 1, 'it': 2, 'unit': 1, 'act': 1, 'fast': 1, 'edge': 1, 'mark': 1, 'jan': 1, 'not_that': 1, 'low': 1, 'than': 1, 'narrative': 1, 'best': 1, 'here': 1, 'within': 1, 'appear': 1, 'hell': 1, 'calls': 1, 'we': 2, 'director': 1, 'recreation': 1, 'family': 2, 'awful': 1, 'not_genius': 1, 'fabled': 1, 'hair': 2, 'found': 1, 'way': 1, 'bad': 1, 'life': 2, 'foil': 1, 'bell': 1, '1995': 1, 'carjackers': 1, 'under': 1, 'much': 1, 'groovy': 1, 'course': 1, 'serious': 1, 'have': 1, 'ringer': 1, 'pop': 1, \"doesn't\": 1, 'cole': 1, 'nothing': 2, 'source': 1, 'cox': 1, 'bottoms': 1, 'twenty': 1, 'appealing': 1, 'greg': 1, 'the': 7, 'walls': 1, \"that's\": 1, 'standards': 1, 'jennifer': 1, \"dad's\": 1, 'thomas': 1, 'mccormick': 1, 'happens': 1, 'enough': 2, 'half': 1, 'movie': 3, 'song': 1, 'how': 1, 'ghost': 1, 'contrast': 1, 'as': 6, 'sing': 1, 'hill': 1, 'maureen': 1, 'cut': 1, 'where': 1, 'bunch': 3, 'elise': 1, 'glaring': 2, 'know': 1, 'cast': 1, 'exhilarating': 1, 'nor': 1, 'shelly': 1, 'howl': 1, 'picture': 1, 'surreality': 1, \"we're\": 1, 'lesbians': 1, 'nick': 1, 'dead': 2, 'motion': 1, ';': 1, 'funky': 1, 'about': 1, 'heightens': 1, 'stepping': 1, 'did': 1, 'confronted': 1, 'kids': 1, 'too': 2, 'so': 4, 'that': 3, 'truisms': 1, 'move': 1, 'heavy': 1, 'forget': 2, 'forwarding': 1, 'your': 2, 'long': 1, 'who': 1, 'event': 1, 'high': 1, 'cheery': 1, 'real': 2, 'genius': 1, '*': 8, 'into': 2}\n"
     ]
    }
   ],
   "source": [
    "print(word_feature[2])"
   ]
  },
  {
   "cell_type": "markdown",
   "metadata": {},
   "source": [
    "## 3.モデルにインプットできる形へと変換"
   ]
  },
  {
   "cell_type": "code",
   "execution_count": 32,
   "metadata": {
    "collapsed": false
   },
   "outputs": [
    {
     "name": "stdout",
     "output_type": "stream",
     "text": [
      "CPU times: user 667 ms, sys: 25.2 ms, total: 692 ms\n",
      "Wall time: 702 ms\n"
     ]
    }
   ],
   "source": [
    "%%time\n",
    "vec = DictVectorizer()\n",
    "feature_vectors_csr = vec.fit_transform( word_feature )"
   ]
  },
  {
   "cell_type": "code",
   "execution_count": 33,
   "metadata": {
    "collapsed": true
   },
   "outputs": [],
   "source": [
    "feature_vectors_csr.data[ feature_vectors_csr.data > 0 ] = 1."
   ]
  },
  {
   "cell_type": "code",
   "execution_count": 34,
   "metadata": {
    "collapsed": false
   },
   "outputs": [
    {
     "name": "stdout",
     "output_type": "stream",
     "text": [
      "input data dimension : (1400, 40321)\n",
      "[ 0.  0.  0. ...,  0.  0.  0.]\n",
      "data size : 451.595312 [MB]\n"
     ]
    }
   ],
   "source": [
    "feature_vectors = feature_vectors_csr.toarray()\n",
    "print( \"input data dimension :\", feature_vectors.shape )\n",
    "print( feature_vectors[0] )\n",
    "print( \"data size :\", sys.getsizeof(feature_vectors) / 1000000, \"[MB]\" )"
   ]
  },
  {
   "cell_type": "markdown",
   "metadata": {},
   "source": [
    "ここで input data dimension が (1400, 40321) になっていることを確認してください。<br>"
   ]
  },
  {
   "cell_type": "markdown",
   "metadata": {},
   "source": [
    "tf-idfを使って特徴量を作成します。\n",
    "- sklearn.feature_extraction.text.TfidfVectorizer : 特徴ベクトルから tf-idf を作成<br>\n",
    "http://scikit-learn.org/stable/modules/generated/sklearn.feature_extraction.text.TfidfVectorizer.html"
   ]
  },
  {
   "cell_type": "code",
   "execution_count": 35,
   "metadata": {
    "collapsed": true
   },
   "outputs": [],
   "source": [
    "from sklearn.feature_extraction.text import TfidfVectorizer, TfidfTransformer"
   ]
  },
  {
   "cell_type": "code",
   "execution_count": 36,
   "metadata": {
    "collapsed": false
   },
   "outputs": [
    {
     "name": "stdout",
     "output_type": "stream",
     "text": [
      "CPU times: user 1.6 s, sys: 251 ms, total: 1.85 s\n",
      "Wall time: 2.18 s\n"
     ]
    }
   ],
   "source": [
    "%%time\n",
    "transformer = TfidfTransformer()\n",
    "feature_vectors = transformer.fit_transform( feature_vectors )"
   ]
  },
  {
   "cell_type": "code",
   "execution_count": 37,
   "metadata": {
    "collapsed": true
   },
   "outputs": [],
   "source": [
    "labels = np.r_[np.tile(0, DATA_NUM), np.tile(1, DATA_NUM)]"
   ]
  },
  {
   "cell_type": "markdown",
   "metadata": {},
   "source": [
    "乱数の seed を設定します。"
   ]
  },
  {
   "cell_type": "code",
   "execution_count": 38,
   "metadata": {
    "collapsed": true
   },
   "outputs": [],
   "source": [
    "np.random.seed(7789)\n",
    "shuffle_order = np.random.choice( 2*DATA_NUM, 2*DATA_NUM, replace=False )"
   ]
  },
  {
   "cell_type": "markdown",
   "metadata": {},
   "source": [
    "## 4.モデルの学習"
   ]
  },
  {
   "cell_type": "code",
   "execution_count": 39,
   "metadata": {
    "collapsed": true
   },
   "outputs": [],
   "source": [
    "def N_splitter(seq, N):\n",
    "    avg = len(seq) / float(N)\n",
    "    out = []\n",
    "    last = 0.0\n",
    "    \n",
    "    while last < len(seq):\n",
    "        out.append(seq[int(last):int(last + avg)])\n",
    "        last += avg\n",
    "        \n",
    "    return np.array(out)"
   ]
  },
  {
   "cell_type": "code",
   "execution_count": 40,
   "metadata": {
    "collapsed": true
   },
   "outputs": [],
   "source": [
    "def train_model(features, labels, method='SVM', parameters=None):\n",
    "    ### set the model\n",
    "    if method == 'SVM':\n",
    "        model = svm.SVC()\n",
    "    elif method == 'NB':\n",
    "        model = naive_bayes.GaussianNB()\n",
    "    elif method == 'RF':\n",
    "        model = RandomForestClassifier()\n",
    "    else:\n",
    "        print(\"Set method as SVM (for Support vector machine), NB (for Naive Bayes) or RF (Random Forest)\")\n",
    "    ### set parameters if exists\n",
    "    if parameters:\n",
    "        model.set_params(**parameters)\n",
    "    ### train the model\n",
    "    model.fit( features, labels )\n",
    "    ### return the trained model\n",
    "    return model\n",
    "\n",
    "def predict(model, features):\n",
    "    predictions = model.predict( features )\n",
    "    return predictions\n",
    "\n",
    "def evaluate_model(predictions, labels):\n",
    "    data_num = len(labels)\n",
    "    correct_num = np.sum( predictions == labels )\n",
    "    return data_num, correct_num\n",
    "\n",
    "def cross_validate(n_folds, feature_vectors, labels, shuffle_order, method='SVM', parameters=None):\n",
    "    result_test_num = []\n",
    "    result_correct_num = []\n",
    "    \n",
    "    n_splits = N_splitter( range(2*DATA_NUM), n_folds )\n",
    "\n",
    "    for i in range(n_folds):\n",
    "        print( \"Executing {0}th set...\".format(i+1) )\n",
    "        test_elems = shuffle_order[ n_splits[i] ]\n",
    "        train_elems = np.array([])\n",
    "        train_set = n_splits[ np.arange(n_folds) !=i ]\n",
    "        for j in train_set:\n",
    "            train_elems = np.r_[ train_elems, shuffle_order[j] ]\n",
    "        train_elems = train_elems.astype(np.integer)\n",
    "\n",
    "        # train\n",
    "        model = train_model( feature_vectors[train_elems], labels[train_elems], method, parameters )\n",
    "        # predict\n",
    "        predictions = predict( model, feature_vectors[test_elems] )\n",
    "        # evaluate\n",
    "        test_num, correct_num = evaluate_model( predictions, labels[test_elems] )\n",
    "        result_test_num.append( test_num )\n",
    "        result_correct_num.append( correct_num )\n",
    "    \n",
    "    return result_test_num, result_correct_num"
   ]
  },
  {
   "cell_type": "code",
   "execution_count": 41,
   "metadata": {
    "collapsed": true
   },
   "outputs": [],
   "source": [
    "N_FOLDS = 3"
   ]
  },
  {
   "cell_type": "markdown",
   "metadata": {},
   "source": [
    "パラメタをチューニングして精度を検証してみます。"
   ]
  },
  {
   "cell_type": "code",
   "execution_count": 42,
   "metadata": {
    "collapsed": false
   },
   "outputs": [
    {
     "name": "stdout",
     "output_type": "stream",
     "text": [
      "CPU times: user 4min 46s, sys: 3.12 s, total: 4min 49s\n",
      "Wall time: 4min 59s\n"
     ]
    }
   ],
   "source": [
    "%%time\n",
    "\n",
    "search_parameters = [\n",
    "    {'kernel': ['rbf'], 'gamma': [1e-2, 1e-3, 1e-4], 'C': [0.1, 1, 10, 100, 1000]},\n",
    "    {'kernel': ['linear'], 'C': [0.1, 1, 10, 100, 1000]}\n",
    "]\n",
    "\n",
    "model = svm.SVC()\n",
    "clf = grid_search.GridSearchCV(model, search_parameters)\n",
    "clf.fit( feature_vectors, labels )"
   ]
  },
  {
   "cell_type": "code",
   "execution_count": 43,
   "metadata": {
    "collapsed": false
   },
   "outputs": [
    {
     "name": "stdout",
     "output_type": "stream",
     "text": [
      "Executing 1th set...\n",
      "Executing 2th set...\n",
      "Executing 3th set...\n",
      "CPU times: user 14.4 s, sys: 171 ms, total: 14.6 s\n",
      "Wall time: 15.2 s\n"
     ]
    }
   ],
   "source": [
    "%%time\n",
    "\n",
    "ans, corr = cross_validate(N_FOLDS, feature_vectors, labels, shuffle_order, method='SVM', parameters=clf.best_params_)"
   ]
  },
  {
   "cell_type": "code",
   "execution_count": 44,
   "metadata": {
    "collapsed": false
   },
   "outputs": [
    {
     "name": "stdout",
     "output_type": "stream",
     "text": [
      "average precision :  85.1 %\n"
     ]
    }
   ],
   "source": [
    "print( \"average precision : \", np.around( 100.*sum(corr)/sum(ans), decimals=1 ), \"%\" )"
   ]
  },
  {
   "cell_type": "markdown",
   "metadata": {},
   "source": [
    "論文の精度である 82.9% を上回ることができました！<br>\n",
    "ここで実施しているのは特徴量作成のごく一部ですので、さらなる精度向上を目指して様々な創意工夫をしてみてください。<br>"
   ]
  },
  {
   "cell_type": "markdown",
   "metadata": {},
   "source": [
    "## 5.その他"
   ]
  },
  {
   "cell_type": "markdown",
   "metadata": {},
   "source": [
    "その他によく使われる特徴量としては、例えば隣り合う単語を一つの組として数える bigram があります。<br>\n",
    "このNotebookでは使用していないですが、紹介だけしておきます。"
   ]
  },
  {
   "cell_type": "code",
   "execution_count": 45,
   "metadata": {
    "collapsed": true
   },
   "outputs": [],
   "source": [
    "# from itertools import tee\n",
    "\n",
    "# def bigrams(iterable):\n",
    "#     a, b = tee(iterable)\n",
    "#     next(b, None)\n",
    "#     return zip(a, b)"
   ]
  },
  {
   "cell_type": "markdown",
   "metadata": {},
   "source": [
    "これ以上の処理を行うならば、自然言語処理の部分に踏み込んで分析を行う必要性が出てきます。<br>\n",
    "有名なライブラリとしては NLTK( http://www.nltk.org/ )などがあります。<br>"
   ]
  },
  {
   "cell_type": "markdown",
   "metadata": {},
   "source": [
    "このNotebookで使用した評判分析で使える英語のレビューデータセットは http://text-analytics101.rxnlp.com/2011/07/user-review-datasets_20.html にまとめられています。"
   ]
  }
 ],
 "metadata": {
  "anaconda-cloud": {},
  "kernelspec": {
   "display_name": "Python [Root]",
   "language": "python",
   "name": "Python [Root]"
  },
  "language_info": {
   "codemirror_mode": {
    "name": "ipython",
    "version": 3
   },
   "file_extension": ".py",
   "mimetype": "text/x-python",
   "name": "python",
   "nbconvert_exporter": "python",
   "pygments_lexer": "ipython3",
   "version": "3.5.2"
  },
  "nbpresent": {
   "slides": {},
   "themes": {}
  }
 },
 "nbformat": 4,
 "nbformat_minor": 0
}
